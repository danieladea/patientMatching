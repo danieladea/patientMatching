{
 "cells": [
  {
   "cell_type": "code",
   "execution_count": null,
   "metadata": {},
   "outputs": [],
   "source": [
    "import pandas as pd\n",
    "patients = pd.read_csv(\"Patient Matching Data.csv\")"
   ]
  },
  {
   "cell_type": "code",
   "execution_count": null,
   "metadata": {},
   "outputs": [],
   "source": [
    "patients.head()"
   ]
  },
  {
   "cell_type": "code",
   "execution_count": null,
   "metadata": {},
   "outputs": [],
   "source": [
    "cleanPatients = patients.drop([\"GroupID\", \"PatientID\", \"MI\"], axis =1)\n",
    "cleanPatients.head()"
   ]
  },
  {
   "cell_type": "code",
   "execution_count": null,
   "metadata": {},
   "outputs": [],
   "source": [
    "def validateAcc(acc):\n",
    "    if len(str(acc)) != 11:\n",
    "        return (float('NaN'))\n",
    "    else:\n",
    "        if acc[9] != \"-\":\n",
    "            return (float('NaN'))\n",
    "        else:\n",
    "            return acc\n",
    "\n",
    "cleanPatients[\"Patient Acct #\"] = cleanPatients[\"Patient Acct #\"].apply(validateAcc)\n"
   ]
  },
  {
   "cell_type": "code",
   "execution_count": null,
   "metadata": {},
   "outputs": [],
   "source": [
    "cleanPatients.head(30)"
   ]
  },
  {
   "cell_type": "code",
   "execution_count": null,
   "metadata": {},
   "outputs": [],
   "source": [
    "tokenized_name = cleanPatients['First Name'].apply(lambda x: x.split())\n",
    "\n",
    "tokenized_name.head()"
   ]
  },
  {
   "cell_type": "code",
   "execution_count": null,
   "metadata": {},
   "outputs": [],
   "source": [
    "from nltk import PorterStemmer\n",
    "\n",
    "ps = PorterStemmer()\n",
    "\n",
    "tokenized_name = tokenized_name.apply(lambda x: [ps.stem(i) for i in x])\n",
    "\n",
    "tokenized_name.head()"
   ]
  },
  {
   "cell_type": "code",
   "execution_count": null,
   "metadata": {},
   "outputs": [],
   "source": [
    "tokenized_name.head(40)"
   ]
  },
  {
   "cell_type": "code",
   "execution_count": null,
   "metadata": {},
   "outputs": [],
   "source": [
    " def lowerstr(string):\n",
    "        if type(string) != float:\n",
    "            return(string.lower())\n",
    "    \n",
    "cleanPatients[\"First Name\"] = cleanPatients['First Name'].apply(lowerstr)\n",
    "cleanPatients.head()"
   ]
  },
  {
   "cell_type": "code",
   "execution_count": 12,
   "metadata": {},
   "outputs": [
    {
     "data": {
      "text/plain": [
       "CA      35\n",
       "TX      21\n",
       "AZ      21\n",
       "WA      13\n",
       "UT       9\n",
       "NM       9\n",
       "SC       8\n",
       "NC       6\n",
       "HI       6\n",
       "OH       6\n",
       "PA       6\n",
       "WI       5\n",
       "MD       5\n",
       "MA       5\n",
       "NY       5\n",
       "KY       4\n",
       "VA       4\n",
       "MI       4\n",
       "GA       3\n",
       "OR       3\n",
       "OK       3\n",
       "NE       3\n",
       "ME       2\n",
       "CO       2\n",
       "MN       1\n",
       "CT       1\n",
       "PR       1\n",
       "Main     1\n",
       "FL       1\n",
       "Name: Current State, dtype: int64"
      ]
     },
     "execution_count": 12,
     "metadata": {},
     "output_type": "execute_result"
    }
   ],
   "source": [
    "cleanPatients[\"Current State\"].value_counts()"
   ]
  },
  {
   "cell_type": "code",
   "execution_count": 13,
   "metadata": {},
   "outputs": [
    {
     "data": {
      "text/plain": [
       "TX    13\n",
       "OH    10\n",
       "CA     9\n",
       "OK     8\n",
       "AZ     6\n",
       "GA     5\n",
       "NY     5\n",
       "FL     5\n",
       "IA     4\n",
       "TN     3\n",
       "AL     3\n",
       "PA     2\n",
       "SC     2\n",
       "MN     2\n",
       "NC     1\n",
       "KY     1\n",
       "CT     1\n",
       "HI     1\n",
       "IL     1\n",
       "Name: Previous State, dtype: int64"
      ]
     },
     "execution_count": 13,
     "metadata": {},
     "output_type": "execute_result"
    }
   ],
   "source": [
    "cleanPatients[\"Previous State\"].value_counts()"
   ]
  },
  {
   "cell_type": "code",
   "execution_count": 14,
   "metadata": {},
   "outputs": [
    {
     "data": {
      "text/plain": [
       "'2'"
      ]
     },
     "execution_count": 14,
     "metadata": {},
     "output_type": "execute_result"
    }
   ],
   "source": [
    "# Maps letters to phonetic groups\n",
    "soundex_map = { \n",
    "    **dict.fromkeys(\"BFPV\", '1'),\n",
    "    **dict.fromkeys(\"CGJKQSXZ\", '2'),\n",
    "    **dict.fromkeys(\"DT\", '3'),\n",
    "    **dict.fromkeys(\"L\", '4'),\n",
    "    **dict.fromkeys(\"MN\", '5'),\n",
    "    **dict.fromkeys(\"R\", '6'),\n",
    "    **dict.fromkeys(\"AEIOUHWY\", '.'),\n",
    "}\n",
    "\n",
    "soundex_map[\"J\"]"
   ]
  },
  {
   "cell_type": "code",
   "execution_count": 15,
   "metadata": {},
   "outputs": [
    {
     "data": {
      "text/plain": [
       "'M500'"
      ]
     },
     "execution_count": 15,
     "metadata": {},
     "output_type": "execute_result"
    }
   ],
   "source": [
    "def get_soundex(token):\n",
    "    \"\"\"Get the soundex code for the string\"\"\"\n",
    "    token = token.upper()\n",
    "\n",
    "    # first letter of input is always the first letter of soundex\n",
    "    soundex = token[0]\n",
    "    \n",
    "    for char in token[1:]:\n",
    "            code = soundex_map[char]\n",
    "            if code != soundex[-1]:\n",
    "                soundex += code\n",
    "\n",
    "    # remove vowels and 'H', 'W' and 'Y' from soundex\n",
    "    soundex = soundex.replace(\".\", \"\")\n",
    "    \n",
    "    # trim or pad to make soundex a 4-character code\n",
    "    soundex = soundex[:4].ljust(4, \"0\")\n",
    "        \n",
    "    return soundex\n",
    "\n",
    "get_soundex(\"Maine\")"
   ]
  },
  {
   "cell_type": "code",
   "execution_count": 16,
   "metadata": {},
   "outputs": [
    {
     "name": "stdout",
     "output_type": "stream",
     "text": [
      "M615\n",
      "M240\n",
      "M240\n",
      "M240\n",
      "M200\n"
     ]
    }
   ],
   "source": [
    "print(get_soundex(\"Mervin\"))\n",
    "print(get_soundex(\"Mikel\"))\n",
    "print(get_soundex(\"Mikel\"))\n",
    "print(get_soundex(\"Michael\"))\n",
    "print(get_soundex(\"Mike\"))\n",
    "\n",
    "\n",
    ""
   ]
  },
  {
   "cell_type": "code",
   "execution_count": 17,
   "metadata": {},
   "outputs": [
    {
     "data": {
      "text/plain": [
       "'2'"
      ]
     },
     "execution_count": 17,
     "metadata": {},
     "output_type": "execute_result"
    }
   ],
   "source": [
    "soundex_map[\"Z\"]"
   ]
  },
  {
   "cell_type": "code",
   "execution_count": 19,
   "metadata": {},
   "outputs": [
    {
     "name": "stdout",
     "output_type": "stream",
     "text": [
      "('STN', '')\n",
      "('STN', '')\n",
      "('STN', '')\n",
      "('STN', '')\n",
      "('STN', '')\n",
      "('STN', '')\n",
      "('STN', '')\n",
      "('MKL', '')\n",
      "('MKL', '')\n",
      "('MKL', 'MXL')\n",
      "('MK', '')\n",
      "('MKL', '')\n",
      "('MKL', '')\n",
      "('TL', '')\n",
      "('TL', '')\n",
      "('MRFN', '')\n",
      "('MRFN', '')\n",
      "('MRFN', '')\n",
      "('MRFN', '')\n",
      "('MRFN', '')\n",
      "('KM', '')\n",
      "('KM', '')\n",
      "('KMRN', '')\n",
      "('ALNR', '')\n",
      "('ALNR', '')\n",
      "('ALNR', '')\n",
      "('JNT', 'ANT')\n",
      "('JNT', 'ANT')\n",
      "('TRP', '')\n",
      "('TRP', '')\n",
      "('MNRT', '')\n",
      "('MNRT', '')\n",
      "('MNRT', '')\n",
      "('MNRT', '')\n",
      "('TNT', '')\n",
      "('TNT', '')\n",
      "('RN', '')\n",
      "('ANT', '')\n",
      "('AN', '')\n",
      "('ANT', '')\n",
      "('ANT', '')\n",
      "('RPRS', '')\n",
      "('RPRT', '')\n",
      "('RPRS', '')\n",
      "('RPRS', '')\n",
      "('TPN', '')\n",
      "('TP', '')\n",
      "('TMN', '')\n",
      "('TMN', '')\n",
      "('TMN', '')\n",
      "('TMN', '')\n",
      "('FRNK', 'FRNKS')\n",
      "('FRNK', '')\n",
      "('FRNK', 'FRNKS')\n",
      "('FRNK', 'FRNKS')\n",
      "('FRNK', 'FRNKS')\n",
      "('TRK', '')\n",
      "('TRK', '')\n",
      "('TRK', '')\n",
      "('TRK', '')\n",
      "('TRK', '')\n",
      "('PTN', '')\n",
      "('PTN', '')\n",
      "('PTN', '')\n",
      "('PTN', '')\n",
      "('PTN', '')\n",
      "('PTN', '')\n",
      "('PTN', '')\n",
      "('PTN', '')\n",
      "('K0RN', 'KTRN')\n",
      "('K0RN', 'KTRN')\n",
      "('K0RN', 'KTRN')\n",
      "('K0RN', 'KTRN')\n",
      "('K0RN', 'KTRN')\n",
      "('K0RN', 'KTRN')\n",
      "('K0RN', 'KTRN')\n",
      "('KTRN', '')\n",
      "('K0RN', 'KTRN')\n",
      "('KMPRL', '')\n",
      "('KMPRL', '')\n",
      "('KMPRL', '')\n",
      "('KMPRL', '')\n",
      "('KM', '')\n",
      "('KMPRL', '')\n",
      "('KMPRL', '')\n",
      "('KMPRL', '')\n",
      "('PSKL', '')\n",
      "('PSKL', '')\n",
      "('PSKL', '')\n",
      "('PSKL', '')\n",
      "('PSKL', '')\n",
      "('PSKL', '')\n",
      "('PSKL', '')\n",
      "('PSKL', '')\n",
      "('PRM', '')\n",
      "('PRM', '')\n",
      "('PRM', '')\n",
      "('PRM', '')\n",
      "('PRM', '')\n",
      "('PRM', '')\n",
      "('PRN', '')\n",
      "('PRM', '')\n",
      "('KRLT', '')\n",
      "('KRLT', '')\n",
      "('KRLT', '')\n",
      "('KRLT', '')\n",
      "('KRLT', '')\n",
      "('KRLT', '')\n",
      "('PL', '')\n",
      "('PL', '')\n",
      "('PL', '')\n",
      "('PL', '')\n",
      "('PL', '')\n",
      "('PL', '')\n",
      "('KRP', '')\n",
      "('KRP', '')\n",
      "('KRP', '')\n",
      "('KRP', '')\n",
      "('KRP', '')\n",
      "('KRP', '')\n",
      "('KRP', '')\n",
      "('TM', '')\n",
      "('TM', '')\n",
      "('TM', '')\n",
      "('TM', '')\n",
      "('TM', '')\n",
      "('TM', '')\n",
      "('TM', '')\n",
      "('TM', '')\n",
      "('XSTN', '')\n",
      "('XSTN', '')\n",
      "('XSTN', '')\n",
      "('XSTN', '')\n",
      "('XSTN', '')\n",
      "('XSTN', '')\n",
      "('XSTN', '')\n",
      "('XSTN', '')\n",
      "('AR0NKTN', 'FRTNKTN')\n",
      "('AR0NKTN', 'FRTNKTN')\n",
      "('AR0NKTN', 'FRTNKTN')\n",
      "('AR0NKTN', 'FRTNKTN')\n",
      "('AR0NKTN', 'FRTNKTN')\n",
      "('AR0NKTN', 'FRTNKTN')\n",
      "('AR0NKTN', 'FRTNKTN')\n",
      "('AR0NKTN', 'FRTNKTN')\n",
      "('AR0NTN', 'FRTNTN')\n",
      "('R', '')\n",
      "('R', '')\n",
      "('R', '')\n",
      "('R', '')\n",
      "('KNSTNTN', '')\n",
      "('KNSTNTN', '')\n",
      "('KNSTNTN', '')\n",
      "('KNSTNTN', '')\n",
      "('ALSN', '')\n",
      "('ALSN', '')\n",
      "('ALSN', '')\n",
      "('ALSN', '')\n",
      "('TN', '')\n",
      "('TN', '')\n",
      "('TN', '')\n",
      "('HSTNKS', '')\n",
      "('MKSN', '')\n",
      "('HSTNKS', '')\n",
      "('HSTNKS', '')\n",
      "('HSTNKS', '')\n",
      "('FLR', '')\n",
      "('FLR', '')\n",
      "('ANMR', '')\n",
      "('AN', '')\n",
      "('AN', '')\n",
      "('PRT', '')\n",
      "('PRT', '')\n",
      "('PRT', '')\n",
      "('PRT', '')\n",
      "('SR', '')\n",
      "('SR', '')\n",
      "('SR', '')\n",
      "('MTSN', '')\n",
      "('MT', '')\n",
      "('MTSN', '')\n",
      "('MTSN', '')\n",
      "('MTSN', '')\n",
      "('ARL', '')\n",
      "('ARL', '')\n",
      "('HRL', '')\n",
      "('J', 'A')\n",
      "('J', 'A')\n",
      "('J', 'A')\n",
      "('J', 'A')\n",
      "('TTJJ', '')\n",
      "('TTJ', '')\n",
      "('TTJ', 'TT ')\n",
      "('TJ', 'T ')\n",
      "('TT', '')\n",
      "('TM', '')\n",
      "('PL', '')\n",
      "('PL', '')\n",
      "('SR', '')\n",
      "('SR', '')\n",
      "('SR', '')\n"
     ]
    }
   ],
   "source": [
    "def getMetaphone(string):\n",
    "    met = double_metaphone(string)\n",
    "    return met[0]\n",
    "cleanPatients[\"metFirst\"] = cleanPatients[\"First Name\"].apply(getMetaphone)"
   ]
  },
  {
   "cell_type": "code",
   "execution_count": 20,
   "metadata": {},
   "outputs": [
    {
     "data": {
      "text/html": [
       "<div>\n",
       "<style scoped>\n",
       "    .dataframe tbody tr th:only-of-type {\n",
       "        vertical-align: middle;\n",
       "    }\n",
       "\n",
       "    .dataframe tbody tr th {\n",
       "        vertical-align: top;\n",
       "    }\n",
       "\n",
       "    .dataframe thead th {\n",
       "        text-align: right;\n",
       "    }\n",
       "</style>\n",
       "<table border=\"1\" class=\"dataframe\">\n",
       "  <thead>\n",
       "    <tr style=\"text-align: right;\">\n",
       "      <th></th>\n",
       "      <th>Patient Acct #</th>\n",
       "      <th>First Name</th>\n",
       "      <th>Last Name</th>\n",
       "      <th>Date of Birth</th>\n",
       "      <th>Sex</th>\n",
       "      <th>Current Street 1</th>\n",
       "      <th>Current Street 2</th>\n",
       "      <th>Current City</th>\n",
       "      <th>Current State</th>\n",
       "      <th>Current Zip Code</th>\n",
       "      <th>Previous First Name</th>\n",
       "      <th>Previous MI</th>\n",
       "      <th>Previous Last Name</th>\n",
       "      <th>Previous Street 1</th>\n",
       "      <th>Previous Street 2</th>\n",
       "      <th>Previous City</th>\n",
       "      <th>Previous State</th>\n",
       "      <th>Previous Zip Code</th>\n",
       "      <th>metFirst</th>\n",
       "    </tr>\n",
       "  </thead>\n",
       "  <tbody>\n",
       "    <tr>\n",
       "      <th>0</th>\n",
       "      <td>247028705-7</td>\n",
       "      <td>sutton</td>\n",
       "      <td>power</td>\n",
       "      <td>9/20/1945</td>\n",
       "      <td>Male</td>\n",
       "      <td>1858 Sullivan Parkway</td>\n",
       "      <td>NaN</td>\n",
       "      <td>Fresno</td>\n",
       "      <td>CA</td>\n",
       "      <td>93726.0</td>\n",
       "      <td>NaN</td>\n",
       "      <td>NaN</td>\n",
       "      <td>NaN</td>\n",
       "      <td>2 Erie Crossing</td>\n",
       "      <td>Apt 9</td>\n",
       "      <td>Mount Vernon</td>\n",
       "      <td>NY</td>\n",
       "      <td>10557.0</td>\n",
       "      <td>STN</td>\n",
       "    </tr>\n",
       "    <tr>\n",
       "      <th>1</th>\n",
       "      <td>NaN</td>\n",
       "      <td>suttin</td>\n",
       "      <td>power</td>\n",
       "      <td>9/21/1945</td>\n",
       "      <td>Male</td>\n",
       "      <td>1859 Sullivan Parkway</td>\n",
       "      <td>#2</td>\n",
       "      <td>Fresno</td>\n",
       "      <td>CA</td>\n",
       "      <td>93726.0</td>\n",
       "      <td>NaN</td>\n",
       "      <td>NaN</td>\n",
       "      <td>NaN</td>\n",
       "      <td>2 Erie Crossing</td>\n",
       "      <td>Apartment # 9</td>\n",
       "      <td>Mount Vernon</td>\n",
       "      <td>NY</td>\n",
       "      <td>10557.0</td>\n",
       "      <td>STN</td>\n",
       "    </tr>\n",
       "    <tr>\n",
       "      <th>2</th>\n",
       "      <td>247028705-7</td>\n",
       "      <td>sutton</td>\n",
       "      <td>power</td>\n",
       "      <td>9/20/1945</td>\n",
       "      <td>Male</td>\n",
       "      <td>1858 Sullivan Parkway</td>\n",
       "      <td>NaN</td>\n",
       "      <td>Fresno</td>\n",
       "      <td>CA</td>\n",
       "      <td>93726.0</td>\n",
       "      <td>NaN</td>\n",
       "      <td>NaN</td>\n",
       "      <td>NaN</td>\n",
       "      <td>NaN</td>\n",
       "      <td>NaN</td>\n",
       "      <td>NaN</td>\n",
       "      <td>NaN</td>\n",
       "      <td>NaN</td>\n",
       "      <td>STN</td>\n",
       "    </tr>\n",
       "    <tr>\n",
       "      <th>3</th>\n",
       "      <td>NaN</td>\n",
       "      <td>sutton</td>\n",
       "      <td>power</td>\n",
       "      <td>9/20/1954</td>\n",
       "      <td>Male</td>\n",
       "      <td>1858 Sullivan Parkway</td>\n",
       "      <td>NaN</td>\n",
       "      <td>Fresno</td>\n",
       "      <td>CA</td>\n",
       "      <td>93726.0</td>\n",
       "      <td>NaN</td>\n",
       "      <td>NaN</td>\n",
       "      <td>NaN</td>\n",
       "      <td>NaN</td>\n",
       "      <td>NaN</td>\n",
       "      <td>NaN</td>\n",
       "      <td>NaN</td>\n",
       "      <td>NaN</td>\n",
       "      <td>STN</td>\n",
       "    </tr>\n",
       "    <tr>\n",
       "      <th>4</th>\n",
       "      <td>NaN</td>\n",
       "      <td>sutton</td>\n",
       "      <td>power</td>\n",
       "      <td>9/20/1954</td>\n",
       "      <td>Male</td>\n",
       "      <td>1858 SULLIVAN PKWAY</td>\n",
       "      <td>APT 2</td>\n",
       "      <td>FRESNO</td>\n",
       "      <td>CA</td>\n",
       "      <td>93726.0</td>\n",
       "      <td>NaN</td>\n",
       "      <td>NaN</td>\n",
       "      <td>NaN</td>\n",
       "      <td>NaN</td>\n",
       "      <td>NaN</td>\n",
       "      <td>NaN</td>\n",
       "      <td>NaN</td>\n",
       "      <td>NaN</td>\n",
       "      <td>STN</td>\n",
       "    </tr>\n",
       "  </tbody>\n",
       "</table>\n",
       "</div>"
      ],
      "text/plain": [
       "  Patient Acct # First Name Last Name Date of Birth   Sex  \\\n",
       "0    247028705-7     sutton     power     9/20/1945  Male   \n",
       "1            NaN     suttin     power     9/21/1945  Male   \n",
       "2    247028705-7     sutton     power     9/20/1945  Male   \n",
       "3            NaN     sutton     power     9/20/1954  Male   \n",
       "4            NaN     sutton     power     9/20/1954  Male   \n",
       "\n",
       "        Current Street 1 Current Street 2 Current City Current State  \\\n",
       "0  1858 Sullivan Parkway              NaN       Fresno            CA   \n",
       "1  1859 Sullivan Parkway               #2       Fresno            CA   \n",
       "2  1858 Sullivan Parkway              NaN       Fresno            CA   \n",
       "3  1858 Sullivan Parkway              NaN       Fresno            CA   \n",
       "4    1858 SULLIVAN PKWAY            APT 2       FRESNO            CA   \n",
       "\n",
       "   Current Zip Code Previous First Name Previous MI Previous Last Name  \\\n",
       "0           93726.0                 NaN         NaN                NaN   \n",
       "1           93726.0                 NaN         NaN                NaN   \n",
       "2           93726.0                 NaN         NaN                NaN   \n",
       "3           93726.0                 NaN         NaN                NaN   \n",
       "4           93726.0                 NaN         NaN                NaN   \n",
       "\n",
       "  Previous Street 1 Previous Street 2 Previous City Previous State  \\\n",
       "0   2 Erie Crossing             Apt 9  Mount Vernon             NY   \n",
       "1   2 Erie Crossing     Apartment # 9  Mount Vernon             NY   \n",
       "2               NaN               NaN           NaN            NaN   \n",
       "3               NaN               NaN           NaN            NaN   \n",
       "4               NaN               NaN           NaN            NaN   \n",
       "\n",
       "   Previous Zip Code metFirst  \n",
       "0            10557.0      STN  \n",
       "1            10557.0      STN  \n",
       "2                NaN      STN  \n",
       "3                NaN      STN  \n",
       "4                NaN      STN  "
      ]
     },
     "execution_count": 20,
     "metadata": {},
     "output_type": "execute_result"
    }
   ],
   "source": [
    "cleanPatients.head()"
   ]
  },
  {
   "cell_type": "code",
   "execution_count": 21,
   "metadata": {},
   "outputs": [],
   "source": [
    "from fuzzywuzzy import fuzz\n",
    "#fuzz.ratio('Deluxe Room, 1 King Bed', 'Deluxe King Room')\n",
    "#partial_ratio \n",
    "#token_sort_ratio\n"
   ]
  },
  {
   "cell_type": "code",
   "execution_count": 24,
   "metadata": {},
   "outputs": [
    {
     "data": {
      "text/plain": [
       "83"
      ]
     },
     "execution_count": 24,
     "metadata": {},
     "output_type": "execute_result"
    }
   ],
   "source": [
    "fuzz.partial_ratio(cleanPatients[\"First Name\"][0], cleanPatients[\"First Name\"][1])"
   ]
  },
  {
   "cell_type": "code",
   "execution_count": null,
   "metadata": {},
   "outputs": [],
   "source": []
  }
 ],
 "metadata": {
  "kernelspec": {
   "display_name": "Python 3",
   "language": "python",
   "name": "python3"
  },
  "language_info": {
   "codemirror_mode": {
    "name": "ipython",
    "version": 3
   },
   "file_extension": ".py",
   "mimetype": "text/x-python",
   "name": "python",
   "nbconvert_exporter": "python",
   "pygments_lexer": "ipython3",
   "version": "3.6.9"
  }
 },
 "nbformat": 4,
 "nbformat_minor": 2
}
