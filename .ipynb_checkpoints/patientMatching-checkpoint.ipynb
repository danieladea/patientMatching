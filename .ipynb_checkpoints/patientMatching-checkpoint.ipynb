{
 "cells": [
  {
   "cell_type": "code",
   "execution_count": null,
   "metadata": {},
   "outputs": [],
   "source": [
    "import pandas as pd\n",
    "patients = pd.read_csv(\"Patient Matching Data.csv\")"
   ]
  },
  {
   "cell_type": "code",
   "execution_count": null,
   "metadata": {},
   "outputs": [],
   "source": [
    "patients.head()"
   ]
  },
  {
   "cell_type": "code",
   "execution_count": null,
   "metadata": {},
   "outputs": [],
   "source": [
    "cleanPatients = patients.drop([\"GroupID\", \"PatientID\", \"MI\"], axis =1)\n",
    "cleanPatients.head()"
   ]
  },
  {
   "cell_type": "code",
   "execution_count": null,
   "metadata": {},
   "outputs": [],
   "source": [
    "def validateAcc(acc):\n",
    "    if len(str(acc)) != 11:\n",
    "        return (float('NaN'))\n",
    "    else:\n",
    "        if acc[9] != \"-\":\n",
    "            return (float('NaN'))\n",
    "        else:\n",
    "            return acc\n",
    "\n",
    "cleanPatients[\"Patient Acct #\"] = cleanPatients[\"Patient Acct #\"].apply(validateAcc)\n"
   ]
  },
  {
   "cell_type": "code",
   "execution_count": null,
   "metadata": {},
   "outputs": [],
   "source": [
    "cleanPatients.head(30)"
   ]
  },
  {
   "cell_type": "code",
   "execution_count": null,
   "metadata": {},
   "outputs": [],
   "source": [
    "tokenized_name = cleanPatients['First Name'].apply(lambda x: x.split())\n",
    "\n",
    "tokenized_name.head()"
   ]
  },
  {
   "cell_type": "code",
   "execution_count": null,
   "metadata": {},
   "outputs": [],
   "source": [
    "from nltk import PorterStemmer\n",
    "\n",
    "ps = PorterStemmer()\n",
    "\n",
    "tokenized_name = tokenized_name.apply(lambda x: [ps.stem(i) for i in x])\n",
    "\n",
    "tokenized_name.head()"
   ]
  },
  {
   "cell_type": "code",
   "execution_count": null,
   "metadata": {},
   "outputs": [],
   "source": [
    "tokenized_name.head(40)"
   ]
  },
  {
   "cell_type": "code",
   "execution_count": null,
   "metadata": {},
   "outputs": [],
   "source": [
    " def lowerstr(string):\n",
    "        return(string.lower())\n",
    "    \n",
    "cleanPatients[\"First Name\"] = cleanPatients['First Name'].apply(lowerstr)\n",
    "cleanPatients[\"Last Name\"] = cleanPatients['Last Name'].apply(lowerstr)\n",
    "\n",
    "cleanPatients.head()"
   ]
  },
  {
   "cell_type": "code",
   "execution_count": null,
   "metadata": {},
   "outputs": [],
   "source": [
    "# https://gist.github.com/rogerallen/1583593\n",
    "us_state_abbrev = {\n",
    "    'Alabama': 'AL',\n",
    "    'Alaska': 'AK',\n",
    "    'American Samoa': 'AS',\n",
    "    'Arizona': 'AZ',\n",
    "    'Arkansas': 'AR',\n",
    "    'California': 'CA',\n",
    "    'Colorado': 'CO',\n",
    "    'Connecticut': 'CT',\n",
    "    'Delaware': 'DE',\n",
    "    'District of Columbia': 'DC',\n",
    "    'Florida': 'FL',\n",
    "    'Georgia': 'GA',\n",
    "    'Guam': 'GU',\n",
    "    'Hawaii': 'HI',\n",
    "    'Idaho': 'ID',\n",
    "    'Illinois': 'IL',\n",
    "    'Indiana': 'IN',\n",
    "    'Iowa': 'IA',\n",
    "    'Kansas': 'KS',\n",
    "    'Kentucky': 'KY',\n",
    "    'Louisiana': 'LA',\n",
    "    'Maine': 'ME',\n",
    "    'Maryland': 'MD',\n",
    "    'Massachusetts': 'MA',\n",
    "    'Michigan': 'MI',\n",
    "    'Minnesota': 'MN',\n",
    "    'Mississippi': 'MS',\n",
    "    'Missouri': 'MO',\n",
    "    'Montana': 'MT',\n",
    "    'Nebraska': 'NE',\n",
    "    'Nevada': 'NV',\n",
    "    'New Hampshire': 'NH',\n",
    "    'New Jersey': 'NJ',\n",
    "    'New Mexico': 'NM',\n",
    "    'New York': 'NY',\n",
    "    'North Carolina': 'NC',\n",
    "    'North Dakota': 'ND',\n",
    "    'Northern Mariana Islands':'MP',\n",
    "    'Ohio': 'OH',\n",
    "    'Oklahoma': 'OK',\n",
    "    'Oregon': 'OR',\n",
    "    'Pennsylvania': 'PA',\n",
    "    'Puerto Rico': 'PR',\n",
    "    'Rhode Island': 'RI',\n",
    "    'South Carolina': 'SC',\n",
    "    'South Dakota': 'SD',\n",
    "    'Tennessee': 'TN',\n",
    "    'Texas': 'TX',\n",
    "    'Utah': 'UT',\n",
    "    'Vermont': 'VT',\n",
    "    'Virgin Islands': 'VI',\n",
    "    'Virginia': 'VA',\n",
    "    'Washington': 'WA',\n",
    "    'West Virginia': 'WV',\n",
    "    'Wisconsin': 'WI',\n",
    "    'Wyoming': 'WY'\n",
    "}"
   ]
  },
  {
   "cell_type": "code",
   "execution_count": null,
   "metadata": {},
   "outputs": [],
   "source": [
    "def convert_state(state):\n",
    "    if state in us_state_abbrev:\n",
    "        return us_state_abbrev[state]\n",
    "    \n",
    "    return state\n",
    "\n",
    "cleanPatients[\"Current State\"] = cleanPatients[\"Current State\"].apply(convert_state)\n",
    "cleanPatients[\"Previous State\"] = cleanPatients[\"Previous State\"].apply(convert_state)"
   ]
  },
  {
   "cell_type": "code",
   "execution_count": null,
   "metadata": {},
   "outputs": [],
   "source": [
    "cleanPatients[\"Current State\"].value_counts()"
   ]
  },
  {
   "cell_type": "code",
   "execution_count": null,
   "metadata": {},
   "outputs": [],
   "source": [
    "cleanPatients[\"Previous State\"].value_counts()"
   ]
  },
  {
   "cell_type": "code",
   "execution_count": null,
   "metadata": {},
   "outputs": [],
   "source": [
    "# Maps letters to phonetic groups\n",
    "soundex_map = { \n",
    "    **dict.fromkeys(\"BFPV\", '1'),\n",
    "    **dict.fromkeys(\"CGJKQSXZ\", '2'),\n",
    "    **dict.fromkeys(\"DT\", '3'),\n",
    "    **dict.fromkeys(\"L\", '4'),\n",
    "    **dict.fromkeys(\"MN\", '5'),\n",
    "    **dict.fromkeys(\"R\", '6'),\n",
    "    **dict.fromkeys(\"AEIOUHWY\", '.'),\n",
    "}\n",
    "\n",
    "soundex_map[\"J\"]"
   ]
  },
  {
   "cell_type": "code",
   "execution_count": null,
   "metadata": {},
   "outputs": [],
   "source": [
    "def get_soundex(token):\n",
    "    \"\"\"Get the soundex code for the string\"\"\"\n",
    "    token = token.upper()\n",
    "\n",
    "    # first letter of input is always the first letter of soundex\n",
    "    soundex = token[0]\n",
    "    \n",
    "    for char in token[1:]:\n",
    "            code = soundex_map[char]\n",
    "            if code != soundex[-1]:\n",
    "                soundex += code\n",
    "\n",
    "    # remove vowels and 'H', 'W' and 'Y' from soundex\n",
    "    soundex = soundex.replace(\".\", \"\")\n",
    "    \n",
    "    # trim or pad to make soundex a 4-character code\n",
    "    soundex = soundex[:4].ljust(4, \"0\")\n",
    "        \n",
    "    return soundex\n",
    "\n",
    "get_soundex(\"Maine\")"
   ]
  },
  {
   "cell_type": "code",
   "execution_count": null,
   "metadata": {},
   "outputs": [],
   "source": [
    "print(get_soundex(\"Mervin\"))\n",
    "print(get_soundex(\"Mikel\"))\n",
    "print(get_soundex(\"Mikel\"))\n",
    "print(get_soundex(\"Michael\"))\n",
    "print(get_soundex(\"Mike\"))\n",
    "\n",
    "\n"
   ]
  },
  {
   "cell_type": "code",
   "execution_count": null,
   "metadata": {},
   "outputs": [],
   "source": [
    "soundex_map[\"Z\"]"
   ]
  },
  {
   "cell_type": "code",
   "execution_count": null,
   "metadata": {},
   "outputs": [],
   "source": [
    "\n",
    "from metaphone import doublemetaphone\n",
    "from enum import Enum\n",
    "\n",
    "class Threshold(Enum):\n",
    "    WEAK = 0\n",
    "    NORMAL = 1\n",
    "    STRONG = 2\n",
    "\n",
    "def double_metaphone(value):\n",
    "    print(doublemetaphone(value))\n",
    "    return doublemetaphone(value)\n",
    "\n",
    "#(Primary Key = Primary Key) = Strongest Match\n",
    "#(Secondary Key = Primary Key) = Normal Match\n",
    "#(Primary Key = Secondary Key) = Normal Match\n",
    "#(Alternate Key = Alternate Key) = Minimal Match\n",
    "def double_metaphone_compare(tuple1,tuple2,threshold):\n",
    "    if threshold == Threshold.WEAK:\n",
    "        if tuple1[1] == tuple2[1]:\n",
    "            return True\n",
    "    elif threshold == Threshold.NORMAL:\n",
    "        if tuple1[0] == tuple2[1] or tuple1[1] == tuple2[0]:\n",
    "            return True\n",
    "    else:\n",
    "        if tuple1[0] == tuple2[0]:\n",
    "            return True\n",
    "    return False"
   ]
  },
  {
   "cell_type": "code",
   "execution_count": null,
   "metadata": {},
   "outputs": [],
   "source": [
    "def getMetaphone(string):\n",
    "    met = double_metaphone(string)\n",
    "    return met[0]\n",
    "cleanPatients[\"metFirst\"] = cleanPatients[\"First Name\"].apply(getMetaphone)"
   ]
  },
  {
   "cell_type": "code",
   "execution_count": null,
   "metadata": {},
   "outputs": [],
   "source": [
    "cleanPatients.head()"
   ]
  },
  {
   "cell_type": "code",
   "execution_count": null,
   "metadata": {},
   "outputs": [],
   "source": [
    "fuzzy ratio  "
   ]
  },
  {
   "cell_type": "code",
   "execution_count": null,
   "metadata": {},
   "outputs": [],
   "source": []
  }
 ],
 "metadata": {
  "kernelspec": {
   "display_name": "Python 3",
   "language": "python",
   "name": "python3"
  },
  "language_info": {
   "codemirror_mode": {
    "name": "ipython",
    "version": 3
   },
   "file_extension": ".py",
   "mimetype": "text/x-python",
   "name": "python",
   "nbconvert_exporter": "python",
   "pygments_lexer": "ipython3",
   "version": "3.7.4"
  }
 },
 "nbformat": 4,
 "nbformat_minor": 2
}
