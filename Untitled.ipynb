{
 "cells": [
  {
   "cell_type": "code",
   "execution_count": 9,
   "metadata": {},
   "outputs": [
    {
     "name": "stdout",
     "output_type": "stream",
     "text": [
      "83\n",
      "40\n",
      "88\n",
      "57\n"
     ]
    }
   ],
   "source": [
    "from fuzzywuzzy import fuzz\n",
    "print(fuzz.ratio(\"31960\", \"3191860\"))\n",
    "print(fuzz.ratio(\"42150\", \"31960\"))\n",
    "print(fuzz.ratio(\"3/19/60\", \"3/19/1860\"))\n",
    "print(fuzz.ratio(\"4/21/50\", \"3/19/60\"))"
   ]
  },
  {
   "cell_type": "code",
   "execution_count": 10,
   "metadata": {},
   "outputs": [
    {
     "name": "stdout",
     "output_type": "stream",
     "text": [
      "('TTJ', 'TT ')\n",
      "('TTJ', '')\n"
     ]
    },
    {
     "data": {
      "text/plain": [
       "('TTJ', '')"
      ]
     },
     "execution_count": 10,
     "metadata": {},
     "output_type": "execute_result"
    }
   ],
   "source": [
    "from metaphone import doublemetaphone\n",
    "from enum import Enum\n",
    "\n",
    "class Threshold(Enum):\n",
    "    WEAK = 0\n",
    "    NORMAL = 1\n",
    "    STRONG = 2\n",
    "\n",
    "def double_metaphone(value):\n",
    "    print(doublemetaphone(value))\n",
    "    return doublemetaphone(value)\n",
    "\n",
    "double_metaphone(\"t.j.\")\n",
    "\n",
    "double_metaphone(\"t-jay\")"
   ]
  },
  {
   "cell_type": "code",
   "execution_count": null,
   "metadata": {},
   "outputs": [],
   "source": []
  }
 ],
 "metadata": {
  "kernelspec": {
   "display_name": "Python 3",
   "language": "python",
   "name": "python3"
  },
  "language_info": {
   "codemirror_mode": {
    "name": "ipython",
    "version": 3
   },
   "file_extension": ".py",
   "mimetype": "text/x-python",
   "name": "python",
   "nbconvert_exporter": "python",
   "pygments_lexer": "ipython3",
   "version": "3.7.4"
  }
 },
 "nbformat": 4,
 "nbformat_minor": 2
}
